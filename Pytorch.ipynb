{
  "nbformat": 4,
  "nbformat_minor": 0,
  "metadata": {
    "colab": {
      "provenance": [],
      "gpuType": "T4",
      "authorship_tag": "ABX9TyPsJPY4DTq8YXQypJM1URKa",
      "include_colab_link": true
    },
    "kernelspec": {
      "name": "python3",
      "display_name": "Python 3"
    },
    "language_info": {
      "name": "python"
    },
    "accelerator": "GPU"
  },
  "cells": [
    {
      "cell_type": "markdown",
      "metadata": {
        "id": "view-in-github",
        "colab_type": "text"
      },
      "source": [
        "<a href=\"https://colab.research.google.com/github/Sanju094/ML1/blob/main/Pytorch.ipynb\" target=\"_parent\"><img src=\"https://colab.research.google.com/assets/colab-badge.svg\" alt=\"Open In Colab\"/></a>"
      ]
    },
    {
      "cell_type": "code",
      "execution_count": 1,
      "metadata": {
        "id": "hXqWqtNLnbtN"
      },
      "outputs": [],
      "source": [
        "import torch\n",
        "import torchvision.datasets as datasets\n",
        "import torchvision.transforms as transforms\n",
        "import torch.nn as nn\n",
        "import torch.optim as optim"
      ]
    },
    {
      "cell_type": "code",
      "source": [
        "transform = transforms.Compose([transforms.ToTensor(), transforms.Normalize((0.1307),(0.3081))])"
      ],
      "metadata": {
        "id": "80rntXbooWki"
      },
      "execution_count": 2,
      "outputs": []
    },
    {
      "cell_type": "code",
      "source": [
        "train_dataset = datasets.MNIST('data', train = True, download = True, transform = transform)"
      ],
      "metadata": {
        "colab": {
          "base_uri": "https://localhost:8080/"
        },
        "id": "be-2h5E_p3im",
        "outputId": "5fd07566-01a2-4818-ac38-102898a9f0c3"
      },
      "execution_count": 3,
      "outputs": [
        {
          "output_type": "stream",
          "name": "stdout",
          "text": [
            "Downloading http://yann.lecun.com/exdb/mnist/train-images-idx3-ubyte.gz\n",
            "Downloading http://yann.lecun.com/exdb/mnist/train-images-idx3-ubyte.gz to data/MNIST/raw/train-images-idx3-ubyte.gz\n"
          ]
        },
        {
          "output_type": "stream",
          "name": "stderr",
          "text": [
            "100%|██████████| 9912422/9912422 [00:00<00:00, 125363982.77it/s]"
          ]
        },
        {
          "output_type": "stream",
          "name": "stdout",
          "text": [
            "Extracting data/MNIST/raw/train-images-idx3-ubyte.gz to data/MNIST/raw\n"
          ]
        },
        {
          "output_type": "stream",
          "name": "stderr",
          "text": [
            "\n"
          ]
        },
        {
          "output_type": "stream",
          "name": "stdout",
          "text": [
            "\n",
            "Downloading http://yann.lecun.com/exdb/mnist/train-labels-idx1-ubyte.gz\n",
            "Downloading http://yann.lecun.com/exdb/mnist/train-labels-idx1-ubyte.gz to data/MNIST/raw/train-labels-idx1-ubyte.gz\n"
          ]
        },
        {
          "output_type": "stream",
          "name": "stderr",
          "text": [
            "100%|██████████| 28881/28881 [00:00<00:00, 33564891.61it/s]\n"
          ]
        },
        {
          "output_type": "stream",
          "name": "stdout",
          "text": [
            "Extracting data/MNIST/raw/train-labels-idx1-ubyte.gz to data/MNIST/raw\n",
            "\n",
            "Downloading http://yann.lecun.com/exdb/mnist/t10k-images-idx3-ubyte.gz\n",
            "Downloading http://yann.lecun.com/exdb/mnist/t10k-images-idx3-ubyte.gz to data/MNIST/raw/t10k-images-idx3-ubyte.gz\n"
          ]
        },
        {
          "output_type": "stream",
          "name": "stderr",
          "text": [
            "100%|██████████| 1648877/1648877 [00:00<00:00, 44565750.31it/s]\n"
          ]
        },
        {
          "output_type": "stream",
          "name": "stdout",
          "text": [
            "Extracting data/MNIST/raw/t10k-images-idx3-ubyte.gz to data/MNIST/raw\n",
            "\n",
            "Downloading http://yann.lecun.com/exdb/mnist/t10k-labels-idx1-ubyte.gz\n",
            "Downloading http://yann.lecun.com/exdb/mnist/t10k-labels-idx1-ubyte.gz to data/MNIST/raw/t10k-labels-idx1-ubyte.gz\n"
          ]
        },
        {
          "output_type": "stream",
          "name": "stderr",
          "text": [
            "100%|██████████| 4542/4542 [00:00<00:00, 17366024.40it/s]\n"
          ]
        },
        {
          "output_type": "stream",
          "name": "stdout",
          "text": [
            "Extracting data/MNIST/raw/t10k-labels-idx1-ubyte.gz to data/MNIST/raw\n",
            "\n"
          ]
        }
      ]
    },
    {
      "cell_type": "code",
      "source": [
        "train_loader = torch.utils.data.DataLoader(train_dataset, batch_size = 64, shuffle = True)"
      ],
      "metadata": {
        "id": "VG9gW5NrqN6i"
      },
      "execution_count": 4,
      "outputs": []
    },
    {
      "cell_type": "code",
      "source": [
        "class Neural(nn.Module):\n",
        "  def __init__(self):\n",
        "    super(Neural,self).__init__()\n",
        "    self.fc1=nn.Linear(28*28,128)\n",
        "    self.fc2 = nn.Linear(128,64)\n",
        "    self.fc3 = nn.Linear(64,32)\n",
        "    self.fc4 = nn.Linear(32,16)\n",
        "    self.fc5 = nn.Linear(16,9)\n",
        "  def forward(self,x):\n",
        "    x = x.view(-1,28*28)\n",
        "    x = torch.relu(self.fc1(x))\n",
        "    x = torch.relu(self.fc2(x))\n",
        "    x = torch.relu(self.fc3(x))\n",
        "    x = torch.relu(self.fc4(x))\n",
        "    x = self.fc5(x)\n",
        "    return x\n",
        "net=Neural()\n",
        "\n",
        ""
      ],
      "metadata": {
        "id": "d5V_FSaXqpEF"
      },
      "execution_count": 16,
      "outputs": []
    },
    {
      "cell_type": "code",
      "source": [
        "criterion=nn.CrossEntropyLoss()\n",
        "optimizer=optim.SGD(net.parameters(),lr=0.01,momentum=0.5)"
      ],
      "metadata": {
        "id": "k_FBHmuX0-y5"
      },
      "execution_count": 17,
      "outputs": []
    },
    {
      "cell_type": "code",
      "source": [
        "num_epochs=10\n",
        "for epoch in range(num_epochs):\n",
        "  for batch_idx,(data,target) in enumerate (train_loader):\n",
        "    optimizer.zero_grad()\n",
        "    output=net(data)\n",
        "    loss =criterion(output,target)\n",
        "    loss.backward()\n",
        "    optimizer.step()\n",
        "    if batch_idx % 100==0:\n",
        "      print('Train Epoch: {} [{}/{} ({:.0f}%)]\\tLoss: {:.6f}'.format(\n",
        "                epoch, batch_idx * len(data), len(train_loader.dataset),\n",
        "                100. * batch_idx / len(train_loader), loss.item()))\n"
      ],
      "metadata": {
        "colab": {
          "base_uri": "https://localhost:8080/"
        },
        "id": "2lryg9v31hpN",
        "outputId": "f94f3582-daf8-4f3d-dacd-2724b2f74f16"
      },
      "execution_count": 18,
      "outputs": [
        {
          "output_type": "stream",
          "name": "stdout",
          "text": [
            "Train Epoch: 0 [0/60000 (0%)]\tLoss: 2.328171\n",
            "Train Epoch: 0 [6400/60000 (11%)]\tLoss: 2.314601\n",
            "Train Epoch: 0 [12800/60000 (21%)]\tLoss: 2.257173\n",
            "Train Epoch: 0 [19200/60000 (32%)]\tLoss: 2.128307\n",
            "Train Epoch: 0 [25600/60000 (43%)]\tLoss: 1.855621\n",
            "Train Epoch: 0 [32000/60000 (53%)]\tLoss: 1.016023\n",
            "Train Epoch: 0 [38400/60000 (64%)]\tLoss: 0.619538\n",
            "Train Epoch: 0 [44800/60000 (75%)]\tLoss: 0.450793\n",
            "Train Epoch: 0 [51200/60000 (85%)]\tLoss: 0.565546\n",
            "Train Epoch: 0 [57600/60000 (96%)]\tLoss: 0.336022\n",
            "Train Epoch: 1 [0/60000 (0%)]\tLoss: 0.367532\n",
            "Train Epoch: 1 [6400/60000 (11%)]\tLoss: 0.273847\n",
            "Train Epoch: 1 [12800/60000 (21%)]\tLoss: 0.178126\n",
            "Train Epoch: 1 [19200/60000 (32%)]\tLoss: 0.164249\n",
            "Train Epoch: 1 [25600/60000 (43%)]\tLoss: 0.235390\n",
            "Train Epoch: 1 [32000/60000 (53%)]\tLoss: 0.233554\n",
            "Train Epoch: 1 [38400/60000 (64%)]\tLoss: 0.151352\n",
            "Train Epoch: 1 [44800/60000 (75%)]\tLoss: 0.241403\n",
            "Train Epoch: 1 [51200/60000 (85%)]\tLoss: 0.093822\n",
            "Train Epoch: 1 [57600/60000 (96%)]\tLoss: 0.301820\n",
            "Train Epoch: 2 [0/60000 (0%)]\tLoss: 0.113527\n",
            "Train Epoch: 2 [6400/60000 (11%)]\tLoss: 0.118648\n",
            "Train Epoch: 2 [12800/60000 (21%)]\tLoss: 0.243203\n",
            "Train Epoch: 2 [19200/60000 (32%)]\tLoss: 0.189179\n",
            "Train Epoch: 2 [25600/60000 (43%)]\tLoss: 0.174313\n",
            "Train Epoch: 2 [32000/60000 (53%)]\tLoss: 0.140797\n",
            "Train Epoch: 2 [38400/60000 (64%)]\tLoss: 0.217700\n",
            "Train Epoch: 2 [44800/60000 (75%)]\tLoss: 0.174107\n",
            "Train Epoch: 2 [51200/60000 (85%)]\tLoss: 0.180621\n",
            "Train Epoch: 2 [57600/60000 (96%)]\tLoss: 0.252337\n",
            "Train Epoch: 3 [0/60000 (0%)]\tLoss: 0.111035\n",
            "Train Epoch: 3 [6400/60000 (11%)]\tLoss: 0.149415\n",
            "Train Epoch: 3 [12800/60000 (21%)]\tLoss: 0.279117\n",
            "Train Epoch: 3 [19200/60000 (32%)]\tLoss: 0.419794\n",
            "Train Epoch: 3 [25600/60000 (43%)]\tLoss: 0.070004\n",
            "Train Epoch: 3 [32000/60000 (53%)]\tLoss: 0.266701\n",
            "Train Epoch: 3 [38400/60000 (64%)]\tLoss: 0.208893\n",
            "Train Epoch: 3 [44800/60000 (75%)]\tLoss: 0.099543\n",
            "Train Epoch: 3 [51200/60000 (85%)]\tLoss: 0.254994\n",
            "Train Epoch: 3 [57600/60000 (96%)]\tLoss: 0.206585\n",
            "Train Epoch: 4 [0/60000 (0%)]\tLoss: 0.141555\n",
            "Train Epoch: 4 [6400/60000 (11%)]\tLoss: 0.149433\n",
            "Train Epoch: 4 [12800/60000 (21%)]\tLoss: 0.169633\n",
            "Train Epoch: 4 [19200/60000 (32%)]\tLoss: 0.087856\n",
            "Train Epoch: 4 [25600/60000 (43%)]\tLoss: 0.141955\n",
            "Train Epoch: 4 [32000/60000 (53%)]\tLoss: 0.075228\n",
            "Train Epoch: 4 [38400/60000 (64%)]\tLoss: 0.132826\n",
            "Train Epoch: 4 [44800/60000 (75%)]\tLoss: 0.115005\n",
            "Train Epoch: 4 [51200/60000 (85%)]\tLoss: 0.054828\n",
            "Train Epoch: 4 [57600/60000 (96%)]\tLoss: 0.188402\n",
            "Train Epoch: 5 [0/60000 (0%)]\tLoss: 0.028425\n",
            "Train Epoch: 5 [6400/60000 (11%)]\tLoss: 0.061770\n",
            "Train Epoch: 5 [12800/60000 (21%)]\tLoss: 0.038503\n",
            "Train Epoch: 5 [19200/60000 (32%)]\tLoss: 0.055518\n",
            "Train Epoch: 5 [25600/60000 (43%)]\tLoss: 0.146088\n",
            "Train Epoch: 5 [32000/60000 (53%)]\tLoss: 0.116451\n",
            "Train Epoch: 5 [38400/60000 (64%)]\tLoss: 0.207052\n",
            "Train Epoch: 5 [44800/60000 (75%)]\tLoss: 0.088501\n",
            "Train Epoch: 5 [51200/60000 (85%)]\tLoss: 0.047653\n",
            "Train Epoch: 5 [57600/60000 (96%)]\tLoss: 0.052887\n",
            "Train Epoch: 6 [0/60000 (0%)]\tLoss: 0.173973\n",
            "Train Epoch: 6 [6400/60000 (11%)]\tLoss: 0.079389\n",
            "Train Epoch: 6 [12800/60000 (21%)]\tLoss: 0.026509\n",
            "Train Epoch: 6 [19200/60000 (32%)]\tLoss: 0.026643\n",
            "Train Epoch: 6 [25600/60000 (43%)]\tLoss: 0.056909\n",
            "Train Epoch: 6 [32000/60000 (53%)]\tLoss: 0.073291\n",
            "Train Epoch: 6 [38400/60000 (64%)]\tLoss: 0.010583\n",
            "Train Epoch: 6 [44800/60000 (75%)]\tLoss: 0.078085\n",
            "Train Epoch: 6 [51200/60000 (85%)]\tLoss: 0.041547\n",
            "Train Epoch: 6 [57600/60000 (96%)]\tLoss: 0.045787\n",
            "Train Epoch: 7 [0/60000 (0%)]\tLoss: 0.140815\n",
            "Train Epoch: 7 [6400/60000 (11%)]\tLoss: 0.045602\n",
            "Train Epoch: 7 [12800/60000 (21%)]\tLoss: 0.037958\n",
            "Train Epoch: 7 [19200/60000 (32%)]\tLoss: 0.032850\n",
            "Train Epoch: 7 [25600/60000 (43%)]\tLoss: 0.069078\n",
            "Train Epoch: 7 [32000/60000 (53%)]\tLoss: 0.079210\n",
            "Train Epoch: 7 [38400/60000 (64%)]\tLoss: 0.013918\n",
            "Train Epoch: 7 [44800/60000 (75%)]\tLoss: 0.034914\n",
            "Train Epoch: 7 [51200/60000 (85%)]\tLoss: 0.049988\n",
            "Train Epoch: 7 [57600/60000 (96%)]\tLoss: 0.079441\n",
            "Train Epoch: 8 [0/60000 (0%)]\tLoss: 0.014583\n",
            "Train Epoch: 8 [6400/60000 (11%)]\tLoss: 0.027464\n",
            "Train Epoch: 8 [12800/60000 (21%)]\tLoss: 0.023656\n",
            "Train Epoch: 8 [19200/60000 (32%)]\tLoss: 0.161219\n",
            "Train Epoch: 8 [25600/60000 (43%)]\tLoss: 0.020180\n",
            "Train Epoch: 8 [32000/60000 (53%)]\tLoss: 0.070448\n",
            "Train Epoch: 8 [38400/60000 (64%)]\tLoss: 0.016327\n",
            "Train Epoch: 8 [44800/60000 (75%)]\tLoss: 0.019317\n",
            "Train Epoch: 8 [51200/60000 (85%)]\tLoss: 0.030534\n",
            "Train Epoch: 8 [57600/60000 (96%)]\tLoss: 0.034760\n",
            "Train Epoch: 9 [0/60000 (0%)]\tLoss: 0.014417\n",
            "Train Epoch: 9 [6400/60000 (11%)]\tLoss: 0.006586\n",
            "Train Epoch: 9 [12800/60000 (21%)]\tLoss: 0.048847\n",
            "Train Epoch: 9 [19200/60000 (32%)]\tLoss: 0.011721\n",
            "Train Epoch: 9 [25600/60000 (43%)]\tLoss: 0.035397\n",
            "Train Epoch: 9 [32000/60000 (53%)]\tLoss: 0.027320\n",
            "Train Epoch: 9 [38400/60000 (64%)]\tLoss: 0.153164\n",
            "Train Epoch: 9 [44800/60000 (75%)]\tLoss: 0.050406\n",
            "Train Epoch: 9 [51200/60000 (85%)]\tLoss: 0.080830\n",
            "Train Epoch: 9 [57600/60000 (96%)]\tLoss: 0.018354\n"
          ]
        }
      ]
    },
    {
      "cell_type": "code",
      "source": [
        "\n",
        "test_dataset=datasets.MNIST('data',train=False,download=True,transform=transform)\n",
        "test_loader=torch.utils.data.DataLoader(test_dataset,batch_size=1000,shuffle=True)\n",
        "correct=0\n",
        "total=0\n",
        "with torch.no_grad():\n",
        "  output=net(data)\n",
        "  _,predicted=torch.max(output.data,1)\n",
        "  total+=target.size(0)\n",
        "  correct+=(predicted==target).sum().item()"
      ],
      "metadata": {
        "id": "cnQQW6Hi3Isn"
      },
      "execution_count": 8,
      "outputs": []
    },
    {
      "cell_type": "code",
      "source": [
        "\n",
        "print('Accuracy of the network on the 10000 test images: %d %%' % (\n",
        "    100 * correct / total))"
      ],
      "metadata": {
        "colab": {
          "base_uri": "https://localhost:8080/"
        },
        "id": "NqD9Spl33L_y",
        "outputId": "f012862d-45d9-43ca-e76f-5d78e0dd2ede"
      },
      "execution_count": 9,
      "outputs": [
        {
          "output_type": "stream",
          "name": "stdout",
          "text": [
            "Accuracy of the network on the 10000 test images: 96 %\n"
          ]
        }
      ]
    }
  ]
}