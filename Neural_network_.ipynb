{
  "nbformat": 4,
  "nbformat_minor": 0,
  "metadata": {
    "colab": {
      "provenance": [],
      "authorship_tag": "ABX9TyNh18+vHFTZ6/Ke4L+PME9L",
      "include_colab_link": true
    },
    "kernelspec": {
      "name": "python3",
      "display_name": "Python 3"
    },
    "language_info": {
      "name": "python"
    }
  },
  "cells": [
    {
      "cell_type": "markdown",
      "metadata": {
        "id": "view-in-github",
        "colab_type": "text"
      },
      "source": [
        "<a href=\"https://colab.research.google.com/github/Sanju094/ML1/blob/main/Neural_network_.ipynb\" target=\"_parent\"><img src=\"https://colab.research.google.com/assets/colab-badge.svg\" alt=\"Open In Colab\"/></a>"
      ]
    },
    {
      "cell_type": "code",
      "source": [
        "import numpy as np\n",
        "from sklearn import datasets\n",
        "from sklearn.model_selection import train_test_split\n",
        "from sklearn.preprocessing import StandardScaler\n",
        "from sklearn.preprocessing import OneHotEncoder\n",
        "\n",
        "# Load the Iris dataset\n",
        "iris = datasets.load_iris()\n",
        "X = iris.data\n",
        "y = iris.target.reshape(-1, 1)\n",
        "\n",
        "# One-hot encode the target variable\n",
        "encoder = OneHotEncoder(sparse=False)\n",
        "y_onehot = encoder.fit_transform(y)\n",
        "\n",
        "# Split the dataset into training and testing sets\n",
        "X_train, X_test, y_train, y_test = train_test_split(X, y_onehot, test_size=0.2, random_state=42)\n",
        "\n",
        "# Standardize the features\n",
        "scaler = StandardScaler()\n",
        "X_train = scaler.fit_transform(X_train)\n",
        "X_test = scaler.transform(X_test)\n",
        "\n",
        "# Neural network parameters\n",
        "input_size = X_train.shape[1]\n",
        "hidden_size = 8\n",
        "output_size = y_train.shape[1]\n",
        "learning_rate = 0.01\n",
        "epochs = 1000\n",
        "\n",
        "# Initialize weights and biases\n",
        "np.random.seed(42)\n",
        "weights_input_hidden = np.random.randn(input_size, hidden_size)\n",
        "biases_hidden = np.zeros((1, hidden_size))\n",
        "weights_hidden_output = np.random.randn(hidden_size, output_size)\n",
        "biases_output = np.zeros((1, output_size))\n",
        "\n",
        "# Sigmoid activation function and its derivative\n",
        "def sigmoid(x):\n",
        "    return 1 / (1 + np.exp(-x))\n",
        "\n",
        "def sigmoid_derivative(x):\n",
        "    return x * (1 - x)\n",
        "\n",
        "# Training the neural network\n",
        "for epoch in range(epochs):\n",
        "    # Forward pass\n",
        "    hidden_input = np.dot(X_train, weights_input_hidden) + biases_hidden\n",
        "    hidden_activation = sigmoid(hidden_input)\n",
        "    output_layer = np.dot(hidden_activation, weights_hidden_output) + biases_output\n",
        "    output = sigmoid(output_layer)\n",
        "\n",
        "    # Backward pass\n",
        "    error_output = y_train - output\n",
        "    d_output = error_output * sigmoid_derivative(output)\n",
        "\n",
        "    error_hidden = d_output.dot(weights_hidden_output.T)\n",
        "    d_hidden = error_hidden * sigmoid_derivative(hidden_activation)\n",
        "\n",
        "    # Update weights and biases\n",
        "    weights_hidden_output += hidden_activation.T.dot(d_output) * learning_rate\n",
        "    biases_output += np.sum(d_output, axis=0, keepdims=True) * learning_rate\n",
        "    weights_input_hidden += X_train.T.dot(d_hidden) * learning_rate\n",
        "    biases_hidden += np.sum(d_hidden, axis=0, keepdims=True) * learning_rate\n",
        "\n",
        "# Testing the trained network\n",
        "hidden_input_test = np.dot(X_test, weights_input_hidden) + biases_hidden\n",
        "hidden_activation_test = sigmoid(hidden_input_test)\n",
        "output_layer_test = np.dot(hidden_activation_test, weights_hidden_output) + biases_output\n",
        "output_test = sigmoid(output_layer_test)\n",
        "\n",
        "# Print the predicted outputs for the test set\n",
        "predicted_labels = np.argmax(output_test, axis=1)\n",
        "actual_labels = np.argmax(y_test, axis=1)\n",
        "\n",
        "\n",
        "accuracy = np.sum(predicted_labels == actual_labels) / len(actual_labels)\n",
        "print(f\"Accuracy: {accuracy * 100:.2f}%\")"
      ],
      "metadata": {
        "id": "D2z3PWzDdx12",
        "colab": {
          "base_uri": "https://localhost:8080/"
        },
        "outputId": "d371ad1e-4474-4901-8d9d-7477ac8ed044"
      },
      "execution_count": null,
      "outputs": [
        {
          "output_type": "stream",
          "name": "stdout",
          "text": [
            "Accuracy: 100.00%\n"
          ]
        },
        {
          "output_type": "stream",
          "name": "stderr",
          "text": [
            "/usr/local/lib/python3.10/dist-packages/sklearn/preprocessing/_encoders.py:868: FutureWarning: `sparse` was renamed to `sparse_output` in version 1.2 and will be removed in 1.4. `sparse_output` is ignored unless you leave `sparse` to its default value.\n",
            "  warnings.warn(\n"
          ]
        }
      ]
    }
  ]
}