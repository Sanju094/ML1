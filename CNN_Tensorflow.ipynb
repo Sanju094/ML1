{
  "nbformat": 4,
  "nbformat_minor": 0,
  "metadata": {
    "colab": {
      "provenance": [],
      "authorship_tag": "ABX9TyP7sDBCftJfCoKCPyFc2tCS",
      "include_colab_link": true
    },
    "kernelspec": {
      "name": "python3",
      "display_name": "Python 3"
    },
    "language_info": {
      "name": "python"
    }
  },
  "cells": [
    {
      "cell_type": "markdown",
      "metadata": {
        "id": "view-in-github",
        "colab_type": "text"
      },
      "source": [
        "<a href=\"https://colab.research.google.com/github/Sanju094/ML1/blob/main/CNN_Tensorflow.ipynb\" target=\"_parent\"><img src=\"https://colab.research.google.com/assets/colab-badge.svg\" alt=\"Open In Colab\"/></a>"
      ]
    },
    {
      "cell_type": "code",
      "execution_count": 20,
      "metadata": {
        "id": "UtUTvOji7BOY"
      },
      "outputs": [],
      "source": [
        "import tensorflow as tf\n",
        "from keras import layers, models\n",
        "from keras.datasets import fashion_mnist\n",
        "from keras.utils import to_categorical"
      ]
    },
    {
      "cell_type": "code",
      "source": [
        "(train_images, train_labels),(test_images, test_labels) = fashion_mnist.load_data()"
      ],
      "metadata": {
        "id": "n2FDnJBq7aHB"
      },
      "execution_count": 21,
      "outputs": []
    },
    {
      "cell_type": "code",
      "source": [
        "train_images,test_images = train_images /255.0, test_images/255.0"
      ],
      "metadata": {
        "id": "33arhQCJ7xBY"
      },
      "execution_count": 22,
      "outputs": []
    },
    {
      "cell_type": "code",
      "source": [
        "train_images = train_images.reshape((60000, 28,28,1))\n",
        "test_images = test_images.reshape((10000, 28,28,1))"
      ],
      "metadata": {
        "id": "PI0Jgtry8S3e"
      },
      "execution_count": 23,
      "outputs": []
    },
    {
      "cell_type": "code",
      "source": [
        "train_labels = to_categorical((train_labels))\n",
        "test_labels = to_categorical(test_labels)"
      ],
      "metadata": {
        "id": "4Sg4RQAf9g6L"
      },
      "execution_count": 24,
      "outputs": []
    },
    {
      "cell_type": "code",
      "source": [
        "model = models.Sequential()\n",
        "model.add(layers.Conv2D(32,(3,3), activation='relu', input_shape=(28,28,1)))\n",
        "model.add(layers.MaxPooling2D((2,2)))\n",
        "model.add(layers.Conv2D(64,(3,3), activation='relu'))\n",
        "model.add(layers.MaxPooling2D((2,2)))\n",
        "model.add(layers.Conv2D(64,(3,3), activation='relu'))"
      ],
      "metadata": {
        "id": "f5_cguY69pUE"
      },
      "execution_count": 29,
      "outputs": []
    },
    {
      "cell_type": "code",
      "source": [
        "model.add(layers.Flatten())\n",
        "model.add(layers.Dense(64, activation='relu'))\n",
        "model.add(layers.Dense(10, activation='softmax'))"
      ],
      "metadata": {
        "id": "IcOpVB36_TbK"
      },
      "execution_count": 30,
      "outputs": []
    },
    {
      "cell_type": "code",
      "source": [
        "model.compile(optimizer='adam', loss='categorical_crossentropy', metrics=['accuracy'])\n",
        "model.fit(train_images, train_labels, epochs=10, validation_data=(test_images, test_labels))\n"
      ],
      "metadata": {
        "colab": {
          "base_uri": "https://localhost:8080/"
        },
        "id": "sPJot-W4_yCH",
        "outputId": "0f886701-4fa3-46e9-8d02-4f23bfad1571"
      },
      "execution_count": 31,
      "outputs": [
        {
          "output_type": "stream",
          "name": "stdout",
          "text": [
            "Epoch 1/10\n",
            "1875/1875 [==============================] - 54s 28ms/step - loss: 0.4948 - accuracy: 0.8191 - val_loss: 0.3715 - val_accuracy: 0.8646\n",
            "Epoch 2/10\n",
            "1875/1875 [==============================] - 77s 41ms/step - loss: 0.3190 - accuracy: 0.8842 - val_loss: 0.3236 - val_accuracy: 0.8843\n",
            "Epoch 3/10\n",
            "1875/1875 [==============================] - 58s 31ms/step - loss: 0.2719 - accuracy: 0.8997 - val_loss: 0.2831 - val_accuracy: 0.8956\n",
            "Epoch 4/10\n",
            "1875/1875 [==============================] - 55s 29ms/step - loss: 0.2430 - accuracy: 0.9105 - val_loss: 0.2694 - val_accuracy: 0.9054\n",
            "Epoch 5/10\n",
            "1875/1875 [==============================] - 52s 28ms/step - loss: 0.2166 - accuracy: 0.9194 - val_loss: 0.2586 - val_accuracy: 0.9051\n",
            "Epoch 6/10\n",
            "1875/1875 [==============================] - 50s 27ms/step - loss: 0.1966 - accuracy: 0.9273 - val_loss: 0.2643 - val_accuracy: 0.9040\n",
            "Epoch 7/10\n",
            "1875/1875 [==============================] - 53s 28ms/step - loss: 0.1795 - accuracy: 0.9329 - val_loss: 0.2586 - val_accuracy: 0.9106\n",
            "Epoch 8/10\n",
            "1875/1875 [==============================] - 52s 28ms/step - loss: 0.1619 - accuracy: 0.9389 - val_loss: 0.2865 - val_accuracy: 0.9036\n",
            "Epoch 9/10\n",
            "1875/1875 [==============================] - 51s 27ms/step - loss: 0.1491 - accuracy: 0.9447 - val_loss: 0.2678 - val_accuracy: 0.9071\n",
            "Epoch 10/10\n",
            "1875/1875 [==============================] - 53s 28ms/step - loss: 0.1347 - accuracy: 0.9494 - val_loss: 0.2848 - val_accuracy: 0.9107\n"
          ]
        },
        {
          "output_type": "execute_result",
          "data": {
            "text/plain": [
              "<keras.src.callbacks.History at 0x78d97fbb52d0>"
            ]
          },
          "metadata": {},
          "execution_count": 31
        }
      ]
    },
    {
      "cell_type": "code",
      "source": [
        "test_loss, test_accuracy = model.evaluate(test_images, test_labels)\n",
        "print(f'Test Accuracy:{test_accuracy*100:.2f}%')"
      ],
      "metadata": {
        "colab": {
          "base_uri": "https://localhost:8080/"
        },
        "id": "v4RhtuD0CnT6",
        "outputId": "2e6b22ad-0c97-48e2-ad8f-f6341999f8b4"
      },
      "execution_count": 32,
      "outputs": [
        {
          "output_type": "stream",
          "name": "stdout",
          "text": [
            "313/313 [==============================] - 3s 8ms/step - loss: 0.2848 - accuracy: 0.9107\n",
            "Test Accuracy:91.07%\n"
          ]
        }
      ]
    }
  ]
}